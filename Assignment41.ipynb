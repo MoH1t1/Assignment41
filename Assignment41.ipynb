{
  "metadata": {
    "kernelspec": {
      "name": "python",
      "display_name": "Python (Pyodide)",
      "language": "python"
    },
    "language_info": {
      "codemirror_mode": {
        "name": "python",
        "version": 3
      },
      "file_extension": ".py",
      "mimetype": "text/x-python",
      "name": "python",
      "nbconvert_exporter": "python",
      "pygments_lexer": "ipython3",
      "version": "3.8"
    }
  },
  "nbformat_minor": 4,
  "nbformat": 4,
  "cells": [
    {
      "cell_type": "code",
      "source": "# Q1. What is the difference between Ordinal Encoding and Label Encoding? Provide an example of when you might choose one over the other.\n\nOrdinal Encoding assigns integer values based on the inherent order of the categories (e.g., low = 1, medium = 2, high = 3). Label Encoding assigns \nintegers without considering any order (e.g., red = 0, green = 1, blue = 2).\n\nUse Ordinal Encoding when there is a clear ranking (e.g., \"low\", \"medium\", \"high\"), and Label Encoding for unordered categories (e.g., color names).\n                                                                                                      \n# Q2. Explain how Target Guided Ordinal Encoding works and provide an example of when you might use it in a machine learning project.\n \nTarget Guided Ordinal Encoding assigns integer values to categories based on their relationship with the target variable. The categories are sorted by the mean\ntarget value and then encoded with integers (higher means stronger relationship).\n\nExample: In predicting housing prices, the \"neighborhood\" feature could be encoded based on average house prices in each neighborhood.\n\n# Q3. Define covariance and explain why it is important in statistical analysis. How is covariance calculated?\n\nCovariance measures how two variables change together. It indicates the direction of the relationship: positive covariance means both variables \nincrease together, while negative covariance means one increases while the other decreases.\n\n                   n            \nCov(X,Y) = 1/(n-1) ∑ (Xi - X) (Yi- Y)\n                  i=1\n                  \nwhere Xi and Yi are values, and X and Y are the means.",
      "metadata": {
        "trusted": true
      },
      "outputs": [],
      "execution_count": null
    },
    {
      "cell_type": "code",
      "source": "# Q4. For a dataset with the following categorical variables: Color (red, green, blue), Size (small, medium,\n# large), and Material (wood, metal, plastic), perform label encoding using Python's scikit-learn library. Show your code and explain the output.\n\nfrom sklearn.preprocessing import LabelEncoder\n\ndata = {'Color': ['red', 'green', 'blue', 'green', 'red'],\n        'Size': ['small', 'medium', 'large', 'medium', 'small'],\n        'Material': ['wood', 'metal', 'plastic', 'wood', 'metal']}\n\n\nle = LabelEncoder()\nencoded_data = {col: le.fit_transform(data[col]) for col in data}\nprint(encoded_data)\n",
      "metadata": {
        "trusted": true
      },
      "outputs": [
        {
          "name": "stdout",
          "text": "{'Color': array([2, 1, 0, 1, 2], dtype=int32), 'Size': array([2, 1, 0, 1, 2], dtype=int32), 'Material': array([2, 0, 1, 2, 0], dtype=int32)}\n",
          "output_type": "stream"
        }
      ],
      "execution_count": 1
    },
    {
      "cell_type": "code",
      "source": "# Q5. Calculate the covariance matrix for the following variables in a dataset: Age, Income, and Education level. Interpret the results.\n\nTo calculate covariance:\nSubtract the mean of each variable.\nMultiply the deviations for each pair of variables.\nCalculate the average of the product.\n\n# Q6. You are working on a machine learning project with a dataset containing several categorical\n# variables, including \"Gender\" (Male/Female), \"Education Level\" (High School/Bachelor's/Master's/PhD),\n# and \"Employment Status\" (Unemployed/Part-Time/Full-Time). Which encoding method would you use for each variable, and why?\n\nGender: Binary encoding (Male = 0, Female = 1) because it has only two categories.\nEducation Level: One-hot encoding since it has multiple categories with no intrinsic order.\nEmployment Status: One-hot encoding for the same reason as Education Level (multiple categories, no order).\n\n# Q7. You are analyzing a dataset with two continuous variables, \"Temperature\" and \"Humidity\", and two\n# categorical variables, \"Weather Condition\" (Sunny/Cloudy/Rainy) and \"Wind Direction\" (North/South/\n# East/West). Calculate the covariance between each pair of variables and interpret the results.\n\nCovariance for continuous variables:\n                                    n\nCov(Temperature,Humidity) = 1/(n-1) ∑ (Ti - T) (Hi- H)\n                                   i=1\n\nFor categorical variables (Weather Condition, Wind Direction), use techniques like point-biserial correlation or ANOVA for comparing with continuous variables, as covariance isn't directly applicable.\nInterpretation: A high positive covariance between Temperature and Humidity means they increase together, whereas a negative value suggests an inverse relationship.",
      "metadata": {
        "trusted": true
      },
      "outputs": [],
      "execution_count": null
    }
  ]
}